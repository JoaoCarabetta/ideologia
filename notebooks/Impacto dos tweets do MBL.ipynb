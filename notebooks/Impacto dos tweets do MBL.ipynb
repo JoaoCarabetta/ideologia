{
 "cells": [
  {
   "cell_type": "markdown",
   "metadata": {
    "toc": true
   },
   "source": [
    "<h1>Table of Contents<span class=\"tocSkip\"></span></h1>\n",
    "<div class=\"toc\"><ul class=\"toc-item\"><li><span><a href=\"#Resumo\" data-toc-modified-id=\"Resumo-1\">Resumo</a></span><ul class=\"toc-item\"><li><span><a href=\"#Objetivo\" data-toc-modified-id=\"Objetivo-1.1\">Objetivo</a></span></li><li><span><a href=\"#Metodologia\" data-toc-modified-id=\"Metodologia-1.2\">Metodologia</a></span></li><li><span><a href=\"#Resultados\" data-toc-modified-id=\"Resultados-1.3\">Resultados</a></span></li></ul></li><li><span><a href=\"#Importações\" data-toc-modified-id=\"Importações-2\">Importações</a></span><ul class=\"toc-item\"><li><span><a href=\"#Importação-dos-dados\" data-toc-modified-id=\"Importação-dos-dados-2.1\">Importação dos dados</a></span><ul class=\"toc-item\"><li><span><a href=\"#Tweets\" data-toc-modified-id=\"Tweets-2.1.1\">Tweets</a></span></li><li><span><a href=\"#Interações\" data-toc-modified-id=\"Interações-2.1.2\">Interações</a></span></li><li><span><a href=\"#Texto-das-imagens\" data-toc-modified-id=\"Texto-das-imagens-2.1.3\">Texto das imagens</a></span></li></ul></li></ul></li><li><span><a href=\"#Tratamento\" data-toc-modified-id=\"Tratamento-3\">Tratamento</a></span><ul class=\"toc-item\"><li><span><a href=\"#Tweets-duplicados\" data-toc-modified-id=\"Tweets-duplicados-3.1\">Tweets duplicados</a></span><ul class=\"toc-item\"><li><span><a href=\"#Limpa-texto-das-images\" data-toc-modified-id=\"Limpa-texto-das-images-3.1.1\">Limpa texto das images</a></span></li></ul></li><li><span><a href=\"#Divisão-por-audiovisual-e-texto\" data-toc-modified-id=\"Divisão-por-audiovisual-e-texto-3.2\">Divisão por audiovisual e texto</a></span></li><li><span><a href=\"#Treat-dates\" data-toc-modified-id=\"Treat-dates-3.3\">Treat dates</a></span></li></ul></li><li><span><a href=\"#Alcance-da-atividade-do-MBL-no-Twitter\" data-toc-modified-id=\"Alcance-da-atividade-do-MBL-no-Twitter-4\">Alcance da atividade do MBL no Twitter</a></span><ul class=\"toc-item\"><li><span><a href=\"#Filtra-data\" data-toc-modified-id=\"Filtra-data-4.1\">Filtra data</a></span></li><li><span><a href=\"#Total-de-Tweets\" data-toc-modified-id=\"Total-de-Tweets-4.2\">Total de Tweets</a></span><ul class=\"toc-item\"><li><span><a href=\"#Agregado\" data-toc-modified-id=\"Agregado-4.2.1\">Agregado</a></span></li><li><span><a href=\"#Por-Ano\" data-toc-modified-id=\"Por-Ano-4.2.2\">Por Ano</a></span></li><li><span><a href=\"#Por-Mês\" data-toc-modified-id=\"Por-Mês-4.2.3\">Por Mês</a></span></li><li><span><a href=\"#Por-Semana\" data-toc-modified-id=\"Por-Semana-4.2.4\">Por Semana</a></span></li><li><span><a href=\"#Distribuição-de-tweets-por-semana\" data-toc-modified-id=\"Distribuição-de-tweets-por-semana-4.2.5\">Distribuição de tweets por semana</a></span></li><li><span><a href=\"#Média-móvel-de-um-mês-de-tweets-por-semana\" data-toc-modified-id=\"Média-móvel-de-um-mês-de-tweets-por-semana-4.2.6\">Média móvel de um mês de tweets por semana</a></span></li></ul></li><li><span><a href=\"#Impacto---Retweets,-Favorites-e-Replies\" data-toc-modified-id=\"Impacto---Retweets,-Favorites-e-Replies-4.3\">Impacto - Retweets, Favorites e Replies</a></span><ul class=\"toc-item\"><li><span><a href=\"#Agregado\" data-toc-modified-id=\"Agregado-4.3.1\">Agregado</a></span></li><li><span><a href=\"#Por-Ano\" data-toc-modified-id=\"Por-Ano-4.3.2\">Por Ano</a></span></li><li><span><a href=\"#Por-Mês\" data-toc-modified-id=\"Por-Mês-4.3.3\">Por Mês</a></span></li><li><span><a href=\"#Por-Semana\" data-toc-modified-id=\"Por-Semana-4.3.4\">Por Semana</a></span></li><li><span><a href=\"#Distribuição-de-tweets-por-semana\" data-toc-modified-id=\"Distribuição-de-tweets-por-semana-4.3.5\">Distribuição de tweets por semana</a></span></li><li><span><a href=\"#Média-móvel-de-um-mês-de-tweets-por-semana\" data-toc-modified-id=\"Média-móvel-de-um-mês-de-tweets-por-semana-4.3.6\">Média móvel de um mês de tweets por semana</a></span></li></ul></li><li><span><a href=\"#Público\" data-toc-modified-id=\"Público-4.4\">Público</a></span><ul class=\"toc-item\"><li><span><a href=\"#Top-Contas\" data-toc-modified-id=\"Top-Contas-4.4.1\">Top Contas</a></span></li><li><span><a href=\"#Fidelidade\" data-toc-modified-id=\"Fidelidade-4.4.2\">Fidelidade</a></span></li></ul></li></ul></li><li><span><a href=\"#Indentificação-de-Temas\" data-toc-modified-id=\"Indentificação-de-Temas-5\">Indentificação de Temas</a></span><ul class=\"toc-item\"><li><span><a href=\"#Transform-data\" data-toc-modified-id=\"Transform-data-5.1\">Transform data</a></span></li><li><span><a href=\"#Train-Model\" data-toc-modified-id=\"Train-Model-5.2\">Train Model</a></span></li></ul></li><li><span><a href=\"#Tweets-por-Tema\" data-toc-modified-id=\"Tweets-por-Tema-6\">Tweets por Tema</a></span><ul class=\"toc-item\"><li><span><a href=\"#Importando-keywords-dos-temas\" data-toc-modified-id=\"Importando-keywords-dos-temas-6.1\">Importando keywords dos temas</a></span><ul class=\"toc-item\"><li><span><a href=\"#Impact-Aggregated\" data-toc-modified-id=\"Impact-Aggregated-6.1.1\">Impact Aggregated</a></span></li></ul></li></ul></li></ul></div>"
   ]
  },
  {
   "cell_type": "markdown",
   "metadata": {
    "ExecuteTime": {
     "end_time": "2018-08-04T23:04:02.595214Z",
     "start_time": "2018-08-04T23:04:02.518434Z"
    }
   },
   "source": [
    "# Resumo\n",
    "\n",
    "## Objetivo\n",
    "\n",
    "1. Enteder o alcance e  da atividade do MBL no Twitter de modo geral\n",
    "2. Refinar a hipótese: tweets relacionados à ideologia de gênero foram o principal fator de crescimento do MBL no twitter\n",
    "\n",
    "## Metodologia\n",
    "\n",
    "Base de dados: \n",
    "- Captura e armazenamento de todos os tweets disponíveis publicamente.\n",
    "\n",
    "Tratamento da base:\n",
    "- Separação de tweets em somente audiovisual, audiovisual + texto e somente texto\n",
    "- Tweets sem imagem e com texto sem caracteres serão desconsiderados\n",
    "- Tratamento das datas\n",
    "\n",
    "\n",
    "**1. Enteder o alcance e  da atividade do MBL no Twitter de modo geral**\n",
    "    - Total de tweets\n",
    "    - % de tweets que foram coletados em relação ao total\n",
    "    - Estatísticas descritivas de tweets por semana e geral\n",
    "    - Descrição do uso do twitter ao longo dos anos\n",
    "    - Mediana de retweets, favorites e replies dos tweets ao longo dos anos\n",
    "    - (?) Clusterização de palavras \n",
    "\n",
    "**2. Refinar a hipótese: tweets relacionados à ideologia de gênero foram o principal fator de crescimento do MBL no twitter**\n",
    "    - Filtrar tweets de acordo com palavras chave\n",
    "    - Total de tweets | % em relação ao total\n",
    "    - Estatísticas descritivas de tweets por semana e geral\n",
    "    - Comparação com o restante dos tweets\n",
    "    - Mediana de retweets, favorites e replies dos tweets ao longo dos anos\n",
    "\n",
    "## Resultados\n",
    "\n",
    "Base de dados:\n",
    "- Foram capturados 8656 tweets dos 17.5k exibidos no site. Mas, a diferença vem dos retweets que não são capturados. Então, somente conteúdo produzido pelo MBL está sendo levado em conta.\n",
    "\n",
    "Tratamento da Base:\n",
    "- Separação de tweets em somente audiovisual, audiovisual + texto e somente texto\n",
    "\n",
    "```\n",
    "tweets: 8920\n",
    "tweets que contém imagem: 2720\n",
    "tweets que contém texto: 8648\n",
    "tweets que contém links externos: 4406\n",
    "tweets que contém somente texto: 2094\n",
    "tweets que contém somente links: 47\n",
    "tweets que contém somente images: 94\n",
    "tweets que contém texto+imagens: 2251\n",
    "tweets que contém links+imagens: 56\n",
    "tweets que contém texto+links: 3984\n",
    "tweets que contém links+imagens+texto: 319\n",
    "tweets que contém vazios: 75```"
   ]
  },
  {
   "cell_type": "markdown",
   "metadata": {},
   "source": [
    "# Importações"
   ]
  },
  {
   "cell_type": "code",
   "execution_count": null,
   "metadata": {},
   "outputs": [
    {
     "name": "stdout",
     "output_type": "stream",
     "text": [
      "Uninstalling pandas-0.23.4:\n",
      "  Would remove:\n",
      "    /usr/local/lib/python3.7/site-packages/pandas-0.23.4.dist-info/*\n",
      "    /usr/local/lib/python3.7/site-packages/pandas/*\n",
      "Proceed (y/n)? "
     ]
    }
   ],
   "source": [
    "!pip3 uninstall pandas"
   ]
  },
  {
   "cell_type": "code",
   "execution_count": 29,
   "metadata": {
    "ExecuteTime": {
     "end_time": "2018-08-05T22:29:12.083295Z",
     "start_time": "2018-08-05T22:29:08.450576Z"
    }
   },
   "outputs": [
    {
     "ename": "ImportError",
     "evalue": "dateutil 2.5.0 is the minimum required version",
     "output_type": "error",
     "traceback": [
      "\u001b[0;31m---------------------------------------------------------------------------\u001b[0m",
      "\u001b[0;31mImportError\u001b[0m                               Traceback (most recent call last)",
      "\u001b[0;32m<ipython-input-29-805cd28b7fc1>\u001b[0m in \u001b[0;36m<module>\u001b[0;34m()\u001b[0m\n\u001b[0;32m----> 1\u001b[0;31m \u001b[0;32mimport\u001b[0m \u001b[0mpandas\u001b[0m \u001b[0;32mas\u001b[0m \u001b[0mpd\u001b[0m\u001b[0;34m\u001b[0m\u001b[0m\n\u001b[0m\u001b[1;32m      2\u001b[0m \u001b[0;32mimport\u001b[0m \u001b[0msqlite3\u001b[0m\u001b[0;34m\u001b[0m\u001b[0m\n\u001b[1;32m      3\u001b[0m \u001b[0;32mimport\u001b[0m \u001b[0mdatetime\u001b[0m\u001b[0;34m\u001b[0m\u001b[0m\n\u001b[1;32m      4\u001b[0m \u001b[0;34m\u001b[0m\u001b[0m\n\u001b[1;32m      5\u001b[0m \u001b[0;31m# DATA ANALYSIS & VIZ TOOLS\u001b[0m\u001b[0;34m\u001b[0m\u001b[0;34m\u001b[0m\u001b[0m\n",
      "\u001b[0;32m/usr/local/lib/python3.7/site-packages/pandas/__init__.py\u001b[0m in \u001b[0;36m<module>\u001b[0;34m()\u001b[0m\n\u001b[1;32m     21\u001b[0m \u001b[0;34m\u001b[0m\u001b[0m\n\u001b[1;32m     22\u001b[0m \u001b[0;31m# numpy compat\u001b[0m\u001b[0;34m\u001b[0m\u001b[0;34m\u001b[0m\u001b[0m\n\u001b[0;32m---> 23\u001b[0;31m \u001b[0;32mfrom\u001b[0m \u001b[0mpandas\u001b[0m\u001b[0;34m.\u001b[0m\u001b[0mcompat\u001b[0m\u001b[0;34m.\u001b[0m\u001b[0mnumpy\u001b[0m \u001b[0;32mimport\u001b[0m \u001b[0;34m*\u001b[0m\u001b[0;34m\u001b[0m\u001b[0m\n\u001b[0m\u001b[1;32m     24\u001b[0m \u001b[0;34m\u001b[0m\u001b[0m\n\u001b[1;32m     25\u001b[0m \u001b[0;32mtry\u001b[0m\u001b[0;34m:\u001b[0m\u001b[0;34m\u001b[0m\u001b[0m\n",
      "\u001b[0;32m/usr/local/lib/python3.7/site-packages/pandas/compat/__init__.py\u001b[0m in \u001b[0;36m<module>\u001b[0;34m()\u001b[0m\n\u001b[1;32m    420\u001b[0m \u001b[0;34m\u001b[0m\u001b[0m\n\u001b[1;32m    421\u001b[0m \u001b[0;32mif\u001b[0m \u001b[0mLooseVersion\u001b[0m\u001b[0;34m(\u001b[0m\u001b[0mdateutil\u001b[0m\u001b[0;34m.\u001b[0m\u001b[0m__version__\u001b[0m\u001b[0;34m)\u001b[0m \u001b[0;34m<\u001b[0m \u001b[0mLooseVersion\u001b[0m\u001b[0;34m(\u001b[0m\u001b[0;34m'2.5'\u001b[0m\u001b[0;34m)\u001b[0m\u001b[0;34m:\u001b[0m\u001b[0;34m\u001b[0m\u001b[0m\n\u001b[0;32m--> 422\u001b[0;31m     \u001b[0;32mraise\u001b[0m \u001b[0mImportError\u001b[0m\u001b[0;34m(\u001b[0m\u001b[0;34m'dateutil 2.5.0 is the minimum required version'\u001b[0m\u001b[0;34m)\u001b[0m\u001b[0;34m\u001b[0m\u001b[0m\n\u001b[0m\u001b[1;32m    423\u001b[0m \u001b[0;32mfrom\u001b[0m \u001b[0mdateutil\u001b[0m \u001b[0;32mimport\u001b[0m \u001b[0mparser\u001b[0m \u001b[0;32mas\u001b[0m \u001b[0m_date_parser\u001b[0m\u001b[0;34m\u001b[0m\u001b[0m\n\u001b[1;32m    424\u001b[0m \u001b[0mparse_date\u001b[0m \u001b[0;34m=\u001b[0m \u001b[0m_date_parser\u001b[0m\u001b[0;34m.\u001b[0m\u001b[0mparse\u001b[0m\u001b[0;34m\u001b[0m\u001b[0m\n",
      "\u001b[0;31mImportError\u001b[0m: dateutil 2.5.0 is the minimum required version"
     ]
    }
   ],
   "source": [
    "import pandas as pd\n",
    "import sqlite3\n",
    "import datetime\n",
    "\n",
    "# DATA ANALYSIS & VIZ TOOLS\n",
    "from copy import deepcopy\n",
    "\n",
    "pd.options.display.max_columns = 999\n",
    "\n",
    "import plotly\n",
    "import plotly.graph_objs as go\n",
    "import plotly.offline as offline\n",
    "\n",
    "offline.init_notebook_mode(connected=True)\n",
    "\n",
    "%pylab inline\n",
    "#pylab.rcParams['figure.figsize'] = (12, 12)\n",
    "\n",
    "colorscale = ['#0095D4', '#7c8282', '#00D9FF', '#b5dde5', '#04b9d3', '#1C5D96'] # visual id\n"
   ]
  },
  {
   "cell_type": "markdown",
   "metadata": {},
   "source": [
    "## Importação dos dados"
   ]
  },
  {
   "cell_type": "markdown",
   "metadata": {},
   "source": [
    "### Tweets"
   ]
  },
  {
   "cell_type": "code",
   "execution_count": 20,
   "metadata": {
    "ExecuteTime": {
     "end_time": "2018-08-05T22:29:12.109930Z",
     "start_time": "2018-08-05T22:29:12.098122Z"
    }
   },
   "outputs": [
    {
     "ename": "NameError",
     "evalue": "name 'sqlite3' is not defined",
     "output_type": "error",
     "traceback": [
      "\u001b[0;31m---------------------------------------------------------------------------\u001b[0m",
      "\u001b[0;31mNameError\u001b[0m                                 Traceback (most recent call last)",
      "\u001b[0;32m<ipython-input-20-883896cb457d>\u001b[0m in \u001b[0;36m<module>\u001b[0;34m()\u001b[0m\n\u001b[0;32m----> 1\u001b[0;31m \u001b[0mdb\u001b[0m \u001b[0;34m=\u001b[0m \u001b[0msqlite3\u001b[0m\u001b[0;34m.\u001b[0m\u001b[0mconnect\u001b[0m\u001b[0;34m(\u001b[0m\u001b[0;34m'../scripts/tweets'\u001b[0m\u001b[0;34m)\u001b[0m\u001b[0;34m\u001b[0m\u001b[0m\n\u001b[0m",
      "\u001b[0;31mNameError\u001b[0m: name 'sqlite3' is not defined"
     ]
    }
   ],
   "source": [
    "db = sqlite3.connect('../scripts/tweets')"
   ]
  },
  {
   "cell_type": "code",
   "execution_count": 21,
   "metadata": {
    "ExecuteTime": {
     "end_time": "2018-08-05T22:29:13.046559Z",
     "start_time": "2018-08-05T22:29:12.120485Z"
    }
   },
   "outputs": [
    {
     "ename": "NameError",
     "evalue": "name 'pd' is not defined",
     "output_type": "error",
     "traceback": [
      "\u001b[0;31m---------------------------------------------------------------------------\u001b[0m",
      "\u001b[0;31mNameError\u001b[0m                                 Traceback (most recent call last)",
      "\u001b[0;32m<ipython-input-21-702fd07a5ad4>\u001b[0m in \u001b[0;36m<module>\u001b[0;34m()\u001b[0m\n\u001b[0;32m----> 1\u001b[0;31m \u001b[0mtweets\u001b[0m \u001b[0;34m=\u001b[0m \u001b[0mpd\u001b[0m\u001b[0;34m.\u001b[0m\u001b[0mread_sql_query\u001b[0m\u001b[0;34m(\u001b[0m\u001b[0;34m'SELECT * FROM tweets_mbl'\u001b[0m\u001b[0;34m,\u001b[0m \u001b[0mdb\u001b[0m\u001b[0;34m)\u001b[0m\u001b[0;34m\u001b[0m\u001b[0m\n\u001b[0m",
      "\u001b[0;31mNameError\u001b[0m: name 'pd' is not defined"
     ]
    }
   ],
   "source": [
    "tweets = pd.read_sql_query('SELECT * FROM tweets_mbl', db)"
   ]
  },
  {
   "cell_type": "code",
   "execution_count": 22,
   "metadata": {
    "ExecuteTime": {
     "end_time": "2018-08-05T22:29:13.167754Z",
     "start_time": "2018-08-05T22:29:13.052609Z"
    }
   },
   "outputs": [
    {
     "ename": "NameError",
     "evalue": "name 'tweets' is not defined",
     "output_type": "error",
     "traceback": [
      "\u001b[0;31m---------------------------------------------------------------------------\u001b[0m",
      "\u001b[0;31mNameError\u001b[0m                                 Traceback (most recent call last)",
      "\u001b[0;32m<ipython-input-22-dd2e77a7ed86>\u001b[0m in \u001b[0;36m<module>\u001b[0;34m()\u001b[0m\n\u001b[0;32m----> 1\u001b[0;31m \u001b[0mtweets\u001b[0m\u001b[0;34m.\u001b[0m\u001b[0mhead\u001b[0m\u001b[0;34m(\u001b[0m\u001b[0;36m2\u001b[0m\u001b[0;34m)\u001b[0m\u001b[0;34m\u001b[0m\u001b[0m\n\u001b[0m",
      "\u001b[0;31mNameError\u001b[0m: name 'tweets' is not defined"
     ]
    }
   ],
   "source": [
    "tweets.head(2)"
   ]
  },
  {
   "cell_type": "code",
   "execution_count": 23,
   "metadata": {
    "ExecuteTime": {
     "end_time": "2018-08-05T22:29:13.227438Z",
     "start_time": "2018-08-05T22:29:13.177023Z"
    }
   },
   "outputs": [
    {
     "ename": "NameError",
     "evalue": "name 'tweets' is not defined",
     "output_type": "error",
     "traceback": [
      "\u001b[0;31m---------------------------------------------------------------------------\u001b[0m",
      "\u001b[0;31mNameError\u001b[0m                                 Traceback (most recent call last)",
      "\u001b[0;32m<ipython-input-23-11ee9b8059f7>\u001b[0m in \u001b[0;36m<module>\u001b[0;34m()\u001b[0m\n\u001b[0;32m----> 1\u001b[0;31m \u001b[0mtweets\u001b[0m\u001b[0;34m.\u001b[0m\u001b[0minfo\u001b[0m\u001b[0;34m(\u001b[0m\u001b[0;34m)\u001b[0m\u001b[0;34m\u001b[0m\u001b[0m\n\u001b[0m",
      "\u001b[0;31mNameError\u001b[0m: name 'tweets' is not defined"
     ]
    }
   ],
   "source": [
    "tweets.info()"
   ]
  },
  {
   "cell_type": "markdown",
   "metadata": {
    "ExecuteTime": {
     "end_time": "2018-08-06T00:27:03.036688Z",
     "start_time": "2018-08-06T00:27:03.016991Z"
    }
   },
   "source": [
    "### Interações"
   ]
  },
  {
   "cell_type": "code",
   "execution_count": null,
   "metadata": {
    "ExecuteTime": {
     "end_time": "2018-08-05T22:49:13.921212Z",
     "start_time": "2018-08-05T22:49:11.989499Z"
    }
   },
   "outputs": [],
   "source": [
    "interactions = pd.read_sql_query('SELECT * FROM interaction', db)"
   ]
  },
  {
   "cell_type": "code",
   "execution_count": null,
   "metadata": {
    "ExecuteTime": {
     "end_time": "2018-08-05T22:49:15.167359Z",
     "start_time": "2018-08-05T22:49:15.112567Z"
    },
    "scrolled": true
   },
   "outputs": [],
   "source": [
    "interactions.head(2)"
   ]
  },
  {
   "cell_type": "code",
   "execution_count": null,
   "metadata": {
    "ExecuteTime": {
     "end_time": "2018-08-05T22:49:16.594069Z",
     "start_time": "2018-08-05T22:49:16.289031Z"
    }
   },
   "outputs": [],
   "source": [
    "interactions.info()"
   ]
  },
  {
   "cell_type": "markdown",
   "metadata": {},
   "source": [
    "### Texto das imagens"
   ]
  },
  {
   "cell_type": "code",
   "execution_count": null,
   "metadata": {
    "ExecuteTime": {
     "end_time": "2018-08-06T00:25:19.838600Z",
     "start_time": "2018-08-06T00:25:19.383880Z"
    }
   },
   "outputs": [],
   "source": [
    "image_text = pd.read_sql_query('SELECT * FROM image_text', db)"
   ]
  },
  {
   "cell_type": "code",
   "execution_count": null,
   "metadata": {
    "ExecuteTime": {
     "end_time": "2018-08-06T00:25:26.048560Z",
     "start_time": "2018-08-06T00:25:26.027520Z"
    }
   },
   "outputs": [],
   "source": [
    "image_text.head()"
   ]
  },
  {
   "cell_type": "code",
   "execution_count": null,
   "metadata": {
    "ExecuteTime": {
     "end_time": "2018-08-06T00:25:40.332076Z",
     "start_time": "2018-08-06T00:25:39.717724Z"
    }
   },
   "outputs": [],
   "source": [
    "image_text.describe()"
   ]
  },
  {
   "cell_type": "markdown",
   "metadata": {},
   "source": [
    "# Tratamento"
   ]
  },
  {
   "cell_type": "markdown",
   "metadata": {
    "ExecuteTime": {
     "end_time": "2018-08-05T20:08:37.499666Z",
     "start_time": "2018-08-05T20:08:37.494341Z"
    }
   },
   "source": [
    "## Tweets duplicados"
   ]
  },
  {
   "cell_type": "code",
   "execution_count": null,
   "metadata": {
    "ExecuteTime": {
     "end_time": "2018-08-05T22:29:16.782896Z",
     "start_time": "2018-08-05T22:29:16.737759Z"
    }
   },
   "outputs": [],
   "source": [
    "print('Número de tweets duplicados: ', len(tweets) - len(tweets.drop_duplicates('tweet_id')))"
   ]
  },
  {
   "cell_type": "code",
   "execution_count": null,
   "metadata": {
    "ExecuteTime": {
     "end_time": "2018-08-05T22:29:16.822179Z",
     "start_time": "2018-08-05T22:29:16.787644Z"
    }
   },
   "outputs": [],
   "source": [
    "tweets = tweets.drop_duplicates('tweet_id')"
   ]
  },
  {
   "cell_type": "markdown",
   "metadata": {
    "ExecuteTime": {
     "end_time": "2018-08-06T00:28:41.891412Z",
     "start_time": "2018-08-06T00:28:41.887371Z"
    }
   },
   "source": [
    "### Limpa texto das images"
   ]
  },
  {
   "cell_type": "code",
   "execution_count": null,
   "metadata": {
    "ExecuteTime": {
     "end_time": "2018-08-06T00:29:36.722057Z",
     "start_time": "2018-08-06T00:29:36.107600Z"
    }
   },
   "outputs": [],
   "source": [
    "def clean_text(text):\n",
    "    \"\"\"Cleans raw text so that it can be written into a csv file without causing any errors.\"\"\"\n",
    "    text = ''.join(list(map(lambda x: x if isinstance(x, str) else x.text, text)))\n",
    "    temp = text\n",
    "    temp = temp.replace(\"\\n\", \" \")\n",
    "    temp = temp.replace(\"\\r\", \" \")\n",
    "    temp = temp.replace(\",\", \" \")\n",
    "    temp.strip()\n",
    "    return temp\n",
    "\n",
    "image_text['image_text'] = image_text['image_text'].apply(clean_text)"
   ]
  },
  {
   "cell_type": "markdown",
   "metadata": {
    "ExecuteTime": {
     "end_time": "2018-08-04T23:25:57.988381Z",
     "start_time": "2018-08-04T23:25:57.974230Z"
    }
   },
   "source": [
    "## Divisão por audiovisual e texto"
   ]
  },
  {
   "cell_type": "code",
   "execution_count": null,
   "metadata": {
    "ExecuteTime": {
     "end_time": "2018-08-05T22:29:17.471082Z",
     "start_time": "2018-08-05T22:29:16.829857Z"
    }
   },
   "outputs": [],
   "source": [
    "tweets['links_len'] = tweets['links'].apply(len) - 2\n",
    "tweets['image_len'] = tweets['embbed_url'].apply(len)\n",
    "tweets['text_len'] = tweets['text'].apply(len)"
   ]
  },
  {
   "cell_type": "code",
   "execution_count": null,
   "metadata": {
    "ExecuteTime": {
     "end_time": "2018-08-05T22:29:17.772065Z",
     "start_time": "2018-08-05T22:29:17.478206Z"
    },
    "scrolled": true
   },
   "outputs": [],
   "source": [
    "print('tweets:', len(tweets))\n",
    "print('tweets que contém imagem:', len(tweets[tweets['image_len'] > 0]))\n",
    "print('tweets que contém texto:', len(tweets[tweets['text_len'] > 0]))\n",
    "print('tweets que contém links externos:', len(tweets[tweets['links_len'] > 0]))\n",
    "print('tweets que contém somente texto:', len(tweets[(tweets['links_len'] == 0) & \n",
    "                                                     (tweets['text_len'] > 0) &\n",
    "                                                     (tweets['image_len'] == 0)]))\n",
    "print('tweets que contém somente links:', len(tweets[(tweets['links_len'] > 0) & \n",
    "                                                     (tweets['text_len'] == 0) &\n",
    "                                                     (tweets['image_len'] == 0)]))\n",
    "print('tweets que contém somente images:', len(tweets[(tweets['links_len'] == 0) & \n",
    "                                                     (tweets['text_len'] == 0) &\n",
    "                                                     (tweets['image_len'] > 0)]))\n",
    "print('tweets que contém texto+imagens:', len(tweets[(tweets['links_len'] == 0) & \n",
    "                                                     (tweets['text_len'] > 0) &\n",
    "                                                     (tweets['image_len'] > 0)]))\n",
    "print('tweets que contém links+imagens:', len(tweets[(tweets['links_len'] > 0) & \n",
    "                                                     (tweets['text_len'] == 0) &\n",
    "                                                     (tweets['image_len'] > 0)]))\n",
    "print('tweets que contém texto+links:', len(tweets[(tweets['links_len'] > 0) & \n",
    "                                                     (tweets['text_len'] > 0) &\n",
    "                                                     (tweets['image_len'] == 0)]))\n",
    "print('tweets que contém links+imagens+texto:', len(tweets[(tweets['links_len'] > 0) & \n",
    "                                                     (tweets['text_len'] > 0) &\n",
    "                                                     (tweets['image_len'] > 0)]))\n",
    "print('tweets que contém vazios:', len(tweets[(tweets['links_len'] == 0) & \n",
    "                                                     (tweets['text_len'] == 0) &\n",
    "                                                     (tweets['image_len'] == 0)]))"
   ]
  },
  {
   "cell_type": "markdown",
   "metadata": {},
   "source": [
    "## Treat dates"
   ]
  },
  {
   "cell_type": "code",
   "execution_count": null,
   "metadata": {
    "ExecuteTime": {
     "end_time": "2018-08-05T22:29:17.794023Z",
     "start_time": "2018-08-05T22:29:17.776335Z"
    },
    "code_folding": [
     0
    ]
   },
   "outputs": [],
   "source": [
    "month_converter = {\n",
    "    'jan': 'jan',\n",
    "    'fev': 'feb',\n",
    "    'mar': 'mar',\n",
    "    'abr': 'apr',\n",
    "    'mai': 'may',\n",
    "    'jun': 'jun',\n",
    "    'jul': 'jul',\n",
    "    'ago': 'aug',\n",
    "    'set': 'sep',\n",
    "    'out': 'oct',\n",
    "    'nov': 'nov',\n",
    "    'dez': 'dec',\n",
    "}"
   ]
  },
  {
   "cell_type": "code",
   "execution_count": null,
   "metadata": {
    "ExecuteTime": {
     "end_time": "2018-08-05T22:29:17.807946Z",
     "start_time": "2018-08-05T22:29:17.800027Z"
    }
   },
   "outputs": [],
   "source": [
    "def translate_month(a):\n",
    "    month = a[-11:-8]\n",
    "    return a.replace(month, month_converter[month])"
   ]
  },
  {
   "cell_type": "code",
   "execution_count": null,
   "metadata": {
    "ExecuteTime": {
     "end_time": "2018-08-05T22:29:18.266937Z",
     "start_time": "2018-08-05T22:29:17.812056Z"
    }
   },
   "outputs": [],
   "source": [
    "tweets['timestamp'] = tweets['timestamp'].apply(lambda a : datetime.datetime.strptime(translate_month(a), '%H:%M - %d de %b de %Y'))"
   ]
  },
  {
   "cell_type": "code",
   "execution_count": null,
   "metadata": {
    "ExecuteTime": {
     "end_time": "2018-08-05T22:29:18.281321Z",
     "start_time": "2018-08-05T22:29:18.272374Z"
    }
   },
   "outputs": [],
   "source": [
    "tweets.set_index('timestamp', inplace=True)"
   ]
  },
  {
   "cell_type": "markdown",
   "metadata": {},
   "source": [
    "# Alcance da atividade do MBL no Twitter\n",
    "\n",
    "Como as atividades no twitter só começam em Outubro de 2014, o período anterior será descartado. \n",
    "\n",
    "Mais precisamente da data '2014-11-14 06:52:00'\n",
    "\n",
    "- Total de tweets\n",
    "- Estatísticas descritivas de tweets por semana e geral\n",
    "- Descrição do uso do twitter ao longo dos anos\n",
    "- Mediana de retweets, favorites e replies dos tweets ao longo dos anos\n",
    "- (?) Clusterização de palavras "
   ]
  },
  {
   "cell_type": "markdown",
   "metadata": {},
   "source": [
    "## Filtra data"
   ]
  },
  {
   "cell_type": "code",
   "execution_count": null,
   "metadata": {
    "ExecuteTime": {
     "end_time": "2018-08-05T22:29:18.327991Z",
     "start_time": "2018-08-05T22:29:18.286439Z"
    }
   },
   "outputs": [],
   "source": [
    "tweets = tweets['01-10-2014':]"
   ]
  },
  {
   "cell_type": "markdown",
   "metadata": {
    "ExecuteTime": {
     "end_time": "2018-08-05T20:06:44.892569Z",
     "start_time": "2018-08-05T20:06:44.782857Z"
    }
   },
   "source": [
    "## Total de Tweets"
   ]
  },
  {
   "cell_type": "code",
   "execution_count": null,
   "metadata": {
    "ExecuteTime": {
     "end_time": "2018-08-05T22:52:41.602344Z",
     "start_time": "2018-08-05T22:52:41.583943Z"
    }
   },
   "outputs": [],
   "source": [
    "def count_group(df, groups=['D', 'W', 'M'], agg='count', select=['tweet_id']):\n",
    "    count = {}\n",
    "    for freq in groups:\n",
    "        count[freq] = df.groupby(pd.Grouper(freq=freq)).agg(agg)[select]\n",
    "        \n",
    "    return count"
   ]
  },
  {
   "cell_type": "code",
   "execution_count": null,
   "metadata": {
    "ExecuteTime": {
     "end_time": "2018-08-05T22:29:18.552424Z",
     "start_time": "2018-08-05T22:29:18.352578Z"
    }
   },
   "outputs": [],
   "source": [
    "tweets_count = count_group(tweets, groups=['D', 'W', 'M', 'Y'])"
   ]
  },
  {
   "cell_type": "markdown",
   "metadata": {
    "ExecuteTime": {
     "end_time": "2018-08-05T20:10:19.698182Z",
     "start_time": "2018-08-05T20:10:19.665669Z"
    }
   },
   "source": [
    "### Agregado"
   ]
  },
  {
   "cell_type": "code",
   "execution_count": null,
   "metadata": {
    "ExecuteTime": {
     "end_time": "2018-08-05T22:29:18.570664Z",
     "start_time": "2018-08-05T22:29:18.556471Z"
    },
    "scrolled": true
   },
   "outputs": [],
   "source": [
    "print('Total de tweets: ', len(tweets))"
   ]
  },
  {
   "cell_type": "markdown",
   "metadata": {},
   "source": [
    "### Por Ano"
   ]
  },
  {
   "cell_type": "code",
   "execution_count": null,
   "metadata": {
    "ExecuteTime": {
     "end_time": "2018-08-05T22:29:18.591905Z",
     "start_time": "2018-08-05T22:29:18.575474Z"
    }
   },
   "outputs": [],
   "source": [
    "tweets_count['Y']"
   ]
  },
  {
   "cell_type": "code",
   "execution_count": null,
   "metadata": {
    "ExecuteTime": {
     "end_time": "2018-08-05T22:29:18.635456Z",
     "start_time": "2018-08-05T22:29:18.597269Z"
    }
   },
   "outputs": [],
   "source": [
    "data = [go.Bar(x=tweets_count['Y'].index - 1,\n",
    "             y=tweets_count['Y']['tweet_id'])]\n",
    "\n",
    "layout = go.Layout(title='Number of tweets per year')\n",
    "fig = dict(layout=layout, data=data)\n",
    "offline.iplot(fig)"
   ]
  },
  {
   "cell_type": "markdown",
   "metadata": {
    "ExecuteTime": {
     "end_time": "2018-08-05T20:15:02.984366Z",
     "start_time": "2018-08-05T20:15:02.978497Z"
    }
   },
   "source": [
    "### Por Mês"
   ]
  },
  {
   "cell_type": "code",
   "execution_count": null,
   "metadata": {
    "ExecuteTime": {
     "end_time": "2018-08-05T22:29:18.810038Z",
     "start_time": "2018-08-05T22:29:18.657857Z"
    }
   },
   "outputs": [],
   "source": [
    "data = [go.Bar(x=tweets_count['M'].index ,\n",
    "             y=tweets_count['M']['tweet_id'])]\n",
    "\n",
    "layout = go.Layout(title='Number of tweets per month')\n",
    "fig = dict(layout=layout, data=data)\n",
    "offline.iplot(fig)"
   ]
  },
  {
   "cell_type": "markdown",
   "metadata": {
    "ExecuteTime": {
     "end_time": "2018-08-04T21:42:28.143671Z",
     "start_time": "2018-08-04T21:42:28.109069Z"
    }
   },
   "source": [
    "### Por Semana"
   ]
  },
  {
   "cell_type": "code",
   "execution_count": null,
   "metadata": {
    "ExecuteTime": {
     "end_time": "2018-08-05T22:29:18.881842Z",
     "start_time": "2018-08-05T22:29:18.817405Z"
    },
    "scrolled": true
   },
   "outputs": [],
   "source": [
    "data = [go.Bar(x=tweets_count['W'].index ,\n",
    "             y=tweets_count['W']['tweet_id'])]\n",
    "\n",
    "layout = go.Layout(title='Number of tweets per week')\n",
    "fig = dict(layout=layout, data=data)\n",
    "offline.iplot(fig)"
   ]
  },
  {
   "cell_type": "markdown",
   "metadata": {
    "ExecuteTime": {
     "end_time": "2018-08-04T21:42:29.860746Z",
     "start_time": "2018-08-04T21:42:29.830587Z"
    }
   },
   "source": [
    "### Distribuição de tweets por semana"
   ]
  },
  {
   "cell_type": "code",
   "execution_count": null,
   "metadata": {
    "ExecuteTime": {
     "end_time": "2018-08-05T22:29:18.914876Z",
     "start_time": "2018-08-05T22:29:18.888045Z"
    },
    "scrolled": true
   },
   "outputs": [],
   "source": [
    "tweets_count['W']['tweet_id'].describe()"
   ]
  },
  {
   "cell_type": "code",
   "execution_count": null,
   "metadata": {
    "ExecuteTime": {
     "end_time": "2018-08-05T22:29:18.952307Z",
     "start_time": "2018-08-05T22:29:18.919792Z"
    }
   },
   "outputs": [],
   "source": [
    "data = [go.Histogram(\n",
    "             x=tweets_count['W']['tweet_id'],\n",
    "            autobinx=True)]\n",
    "\n",
    "layout = go.Layout(title='Number of tweets per week')\n",
    "fig = dict(layout=layout, data=data)\n",
    "offline.iplot(fig)"
   ]
  },
  {
   "cell_type": "markdown",
   "metadata": {},
   "source": [
    "### Média móvel de um mês de tweets por semana"
   ]
  },
  {
   "cell_type": "code",
   "execution_count": null,
   "metadata": {
    "ExecuteTime": {
     "end_time": "2018-08-05T22:29:19.089187Z",
     "start_time": "2018-08-05T22:29:18.956057Z"
    }
   },
   "outputs": [],
   "source": [
    "data = [go.Scatter(\n",
    "            x=tweets_count['W'].index,\n",
    "            y=tweets_count['W']['tweet_id'],\n",
    "            mode='markers',\n",
    "            name='Number of Tweets')]\n",
    "\n",
    "data.append(go.Scatter(\n",
    "                x=tweets_count['W'].index,\n",
    "                y=tweets_count['W']['tweet_id'].rolling(4, closed='right', min_periods=1).mean(),\n",
    "                name='Rolling Month Average'))\n",
    "\n",
    "data.append(go.Scatter(\n",
    "                x=tweets_count['W'].index,\n",
    "                y=tweets_count['W']['tweet_id'].rolling(4, closed='right', min_periods=1).median(),\n",
    "                name='Rolling Month Median'))\n",
    "\n",
    "layout = go.Layout(title='Number of tweets per week')\n",
    "fig = dict(layout=layout, data=data)\n",
    "offline.iplot(fig)"
   ]
  },
  {
   "cell_type": "code",
   "execution_count": null,
   "metadata": {
    "ExecuteTime": {
     "end_time": "2018-08-05T22:29:20.654064Z",
     "start_time": "2018-08-05T22:29:19.098244Z"
    }
   },
   "outputs": [],
   "source": [
    "from statsmodels.tsa.seasonal import seasonal_decompose\n",
    "\n",
    "result = seasonal_decompose(tweets_count['W']['tweet_id'].rolling(4, closed='right', min_periods=1).mean(), \n",
    "                            model='additive')\n",
    "\n",
    "data = []\n",
    "\n",
    "data.append(go.Scatter(\n",
    "                x=tweets_count['W'].index,\n",
    "                y=tweets_count['W']['tweet_id'].rolling(4, closed='right', min_periods=1).mean(),\n",
    "                name='Rolling Month Median'))\n",
    "\n",
    "data.append(go.Scatter(\n",
    "                x=result.trend.index,\n",
    "                y=result.trend,\n",
    "                name='Trend'))\n",
    "\n",
    "data.append(go.Scatter(\n",
    "                x=result.seasonal.index,\n",
    "                y=result.seasonal,\n",
    "                name='Seasonal'))\n",
    "\n",
    "data.append(go.Scatter(\n",
    "                x=result.resid.index,\n",
    "                y=result.resid,\n",
    "                name='Residual'))\n",
    "\n",
    "layout = go.Layout(title='Number of tweets per week - Decomposition')\n",
    "fig = dict(layout=layout, data=data)\n",
    "offline.iplot(fig)"
   ]
  },
  {
   "cell_type": "markdown",
   "metadata": {
    "ExecuteTime": {
     "end_time": "2018-08-05T20:44:56.756810Z",
     "start_time": "2018-08-05T20:44:56.735799Z"
    }
   },
   "source": [
    "## Impacto - Retweets, Favorites e Replies"
   ]
  },
  {
   "cell_type": "code",
   "execution_count": null,
   "metadata": {
    "ExecuteTime": {
     "end_time": "2018-08-05T22:29:21.336788Z",
     "start_time": "2018-08-05T22:29:20.658113Z"
    }
   },
   "outputs": [],
   "source": [
    "tweets_sum = {'retweets': count_group(tweets, groups=['D', 'W', 'M', 'Y'], select=['retweets'], agg='sum'),\n",
    "                'favorites': count_group(tweets, groups=['D', 'W', 'M', 'Y'], select=['favorites'], agg='sum'),\n",
    "                'replies': count_group(tweets, groups=['D', 'W', 'M', 'Y'], select=['replies'], agg='sum'),\n",
    "               }\n",
    "tweets_median = {'retweets': count_group(tweets, groups=['D', 'W', 'M', 'Y'], select=['retweets'], agg='median'),\n",
    "                'favorites': count_group(tweets, groups=['D', 'W', 'M', 'Y'], select=['favorites'], agg='median'),\n",
    "                'replies': count_group(tweets, groups=['D', 'W', 'M', 'Y'], select=['replies'], agg='median'),\n",
    "               }"
   ]
  },
  {
   "cell_type": "markdown",
   "metadata": {},
   "source": [
    "### Agregado"
   ]
  },
  {
   "cell_type": "code",
   "execution_count": null,
   "metadata": {
    "ExecuteTime": {
     "end_time": "2018-08-05T22:29:21.358194Z",
     "start_time": "2018-08-05T22:29:21.344083Z"
    }
   },
   "outputs": [],
   "source": [
    "print('Total de retweets: ', tweets['retweets'].sum())\n",
    "print('Total de favorites: ', tweets['favorites'].sum())\n",
    "print('Total de replies: ', tweets['replies'].sum())"
   ]
  },
  {
   "cell_type": "markdown",
   "metadata": {},
   "source": [
    "### Por Ano"
   ]
  },
  {
   "cell_type": "code",
   "execution_count": null,
   "metadata": {
    "ExecuteTime": {
     "end_time": "2018-08-05T22:29:21.432879Z",
     "start_time": "2018-08-05T22:29:21.363371Z"
    }
   },
   "outputs": [],
   "source": [
    "data = []\n",
    "\n",
    "for interaction in tweets_sum:\n",
    "    data.append(go.Bar(\n",
    "                    x=tweets_sum[interaction]['Y'].index - 1,\n",
    "                    y=tweets_sum[interaction]['Y'][interaction],\n",
    "                    name=interaction))\n",
    "\n",
    "layout = go.Layout(title='Number of interactions per year')\n",
    "fig = dict(layout=layout, data=data)\n",
    "offline.iplot(fig)"
   ]
  },
  {
   "cell_type": "code",
   "execution_count": null,
   "metadata": {
    "ExecuteTime": {
     "end_time": "2018-08-05T22:29:21.497810Z",
     "start_time": "2018-08-05T22:29:21.437209Z"
    }
   },
   "outputs": [],
   "source": [
    "data = []\n",
    "\n",
    "for interaction in tweets_median:\n",
    "    data.append(go.Bar(\n",
    "                    x=tweets_median[interaction]['Y'].index - 1,\n",
    "                    y=tweets_median[interaction]['Y'][interaction],\n",
    "                    name=interaction))\n",
    "\n",
    "layout = go.Layout(title='Median of interactions per tweet per year')\n",
    "fig = dict(layout=layout, data=data)\n",
    "offline.iplot(fig)"
   ]
  },
  {
   "cell_type": "markdown",
   "metadata": {
    "ExecuteTime": {
     "end_time": "2018-08-05T20:15:02.984366Z",
     "start_time": "2018-08-05T20:15:02.978497Z"
    }
   },
   "source": [
    "### Por Mês"
   ]
  },
  {
   "cell_type": "code",
   "execution_count": null,
   "metadata": {
    "ExecuteTime": {
     "end_time": "2018-08-05T22:29:21.574469Z",
     "start_time": "2018-08-05T22:29:21.501407Z"
    },
    "scrolled": false
   },
   "outputs": [],
   "source": [
    "data = []\n",
    "\n",
    "for interaction in tweets_sum:\n",
    "    data.append(go.Scatter(\n",
    "                    x=tweets_sum[interaction]['M'].index,\n",
    "                    y=tweets_sum[interaction]['M'][interaction],\n",
    "                    name=interaction))\n",
    "\n",
    "layout = go.Layout(title='Number of interactions per month')\n",
    "fig = dict(layout=layout, data=data)\n",
    "offline.iplot(fig)"
   ]
  },
  {
   "cell_type": "code",
   "execution_count": null,
   "metadata": {
    "ExecuteTime": {
     "end_time": "2018-08-05T22:29:21.648138Z",
     "start_time": "2018-08-05T22:29:21.582209Z"
    }
   },
   "outputs": [],
   "source": [
    "data = []\n",
    "\n",
    "for interaction in tweets_median:\n",
    "    data.append(go.Scatter(\n",
    "                    x=tweets_median[interaction]['M'].index,\n",
    "                    y=tweets_median[interaction]['M'][interaction],\n",
    "                    name=interaction))\n",
    "\n",
    "layout = go.Layout(title='Median of interactions per tweet per month')\n",
    "fig = dict(layout=layout, data=data)\n",
    "offline.iplot(fig)"
   ]
  },
  {
   "cell_type": "markdown",
   "metadata": {
    "ExecuteTime": {
     "end_time": "2018-08-04T21:42:28.143671Z",
     "start_time": "2018-08-04T21:42:28.109069Z"
    }
   },
   "source": [
    "### Por Semana"
   ]
  },
  {
   "cell_type": "code",
   "execution_count": null,
   "metadata": {
    "ExecuteTime": {
     "end_time": "2018-08-05T22:29:21.836769Z",
     "start_time": "2018-08-05T22:29:21.652551Z"
    },
    "scrolled": false
   },
   "outputs": [],
   "source": [
    "data = []\n",
    "\n",
    "for interaction in tweets_sum:\n",
    "    data.append(go.Scatter(\n",
    "                    x=tweets_sum[interaction]['W'].index,\n",
    "                    y=tweets_sum[interaction]['W'][interaction],\n",
    "                    name=interaction))\n",
    "\n",
    "layout = go.Layout(title='Median of interactions per week')\n",
    "fig = dict(layout=layout, data=data)\n",
    "offline.iplot(fig)"
   ]
  },
  {
   "cell_type": "code",
   "execution_count": null,
   "metadata": {
    "ExecuteTime": {
     "end_time": "2018-08-05T22:29:21.956862Z",
     "start_time": "2018-08-05T22:29:21.840546Z"
    }
   },
   "outputs": [],
   "source": [
    "data = []\n",
    "\n",
    "for interaction in tweets_median:\n",
    "    data.append(go.Scatter(\n",
    "                    x=tweets_median[interaction]['W'].index,\n",
    "                    y=tweets_median[interaction]['W'][interaction],\n",
    "                    name=interaction))\n",
    "\n",
    "layout = go.Layout(title='Median of interactions per tweet per week')\n",
    "fig = dict(layout=layout, data=data)\n",
    "offline.iplot(fig)"
   ]
  },
  {
   "cell_type": "markdown",
   "metadata": {
    "ExecuteTime": {
     "end_time": "2018-08-04T21:42:29.860746Z",
     "start_time": "2018-08-04T21:42:29.830587Z"
    }
   },
   "source": [
    "### Distribuição de tweets por semana"
   ]
  },
  {
   "cell_type": "code",
   "execution_count": null,
   "metadata": {
    "ExecuteTime": {
     "end_time": "2018-08-05T22:29:21.988464Z",
     "start_time": "2018-08-05T22:29:21.961024Z"
    },
    "scrolled": true
   },
   "outputs": [],
   "source": [
    "tweets_sum['replies']['W']['replies'].describe(), tweets_sum['retweets']['W']['retweets'].describe(), tweets_sum['favorites']['W']['favorites'].describe()\n"
   ]
  },
  {
   "cell_type": "code",
   "execution_count": null,
   "metadata": {
    "ExecuteTime": {
     "end_time": "2018-08-05T22:29:22.054207Z",
     "start_time": "2018-08-05T22:29:21.997318Z"
    }
   },
   "outputs": [],
   "source": [
    "data = []\n",
    "\n",
    "for interaction in tweets_sum:\n",
    "    data.append(go.Histogram(\n",
    "                    x=tweets_sum[interaction]['W'][interaction],\n",
    "                    name=interaction,\n",
    "                    opacity=0.9))\n",
    "\n",
    "layout = go.Layout(title='Median of interactions per week',\n",
    "                  xaxis=dict(range=[0, 10000]),)\n",
    "fig = dict(layout=layout, data=data)\n",
    "offline.iplot(fig)"
   ]
  },
  {
   "cell_type": "markdown",
   "metadata": {
    "ExecuteTime": {
     "end_time": "2018-08-05T21:09:57.553450Z",
     "start_time": "2018-08-05T21:09:57.530577Z"
    }
   },
   "source": [
    "### Média móvel de um mês de tweets por semana"
   ]
  },
  {
   "cell_type": "code",
   "execution_count": null,
   "metadata": {
    "ExecuteTime": {
     "end_time": "2018-08-05T22:29:22.283393Z",
     "start_time": "2018-08-05T22:29:22.058619Z"
    },
    "scrolled": false
   },
   "outputs": [],
   "source": [
    "\n",
    "data = []\n",
    "\n",
    "for i, interaction in enumerate(tweets_sum):\n",
    "    data.append(go.Scatter(\n",
    "                    x=tweets_sum[interaction]['W'].index,\n",
    "                    y=tweets_sum[interaction]['W'][interaction],\n",
    "                    name=interaction,\n",
    "                    mode='markers',\n",
    "                    marker=dict(color=colorscale[i])))\n",
    "\n",
    "    data.append(go.Scatter(\n",
    "                    x=tweets_sum[interaction]['W'].index,\n",
    "                    y=tweets_sum[interaction]['W'][interaction].rolling(4, closed='right', min_periods=1).median(),\n",
    "                    name=interaction + ' Rolling Month Median',\n",
    "                    marker=dict(color=colorscale[i])))\n",
    "\n",
    "layout = go.Layout(title='Number of interactions per week')\n",
    "fig = dict(layout=layout, data=data)\n",
    "offline.iplot(fig)"
   ]
  },
  {
   "cell_type": "markdown",
   "metadata": {},
   "source": [
    "## Público"
   ]
  },
  {
   "cell_type": "code",
   "execution_count": null,
   "metadata": {
    "ExecuteTime": {
     "end_time": "2018-08-05T22:30:13.998722Z",
     "start_time": "2018-08-05T22:30:13.978141Z"
    }
   },
   "outputs": [],
   "source": [
    "interactions.head()"
   ]
  },
  {
   "cell_type": "markdown",
   "metadata": {
    "ExecuteTime": {
     "end_time": "2018-08-05T21:28:57.896376Z",
     "start_time": "2018-08-05T21:28:57.890934Z"
    },
    "code_folding": []
   },
   "source": [
    "### Top Contas"
   ]
  },
  {
   "cell_type": "code",
   "execution_count": null,
   "metadata": {
    "ExecuteTime": {
     "end_time": "2018-08-05T22:30:22.118768Z",
     "start_time": "2018-08-05T22:30:21.494229Z"
    },
    "scrolled": true
   },
   "outputs": [],
   "source": [
    "interactions.groupby(['username']).count()['tweet_id'].sort_values(ascending=False)"
   ]
  },
  {
   "cell_type": "markdown",
   "metadata": {
    "ExecuteTime": {
     "end_time": "2018-08-05T21:51:19.678368Z",
     "start_time": "2018-08-05T21:51:19.517024Z"
    }
   },
   "source": [
    "### Fidelidade \n",
    "\n",
    "Número de usuários com mais de uma interação ao longo dos anos"
   ]
  },
  {
   "cell_type": "code",
   "execution_count": null,
   "metadata": {
    "ExecuteTime": {
     "end_time": "2018-08-05T22:49:22.876586Z",
     "start_time": "2018-08-05T22:49:21.944470Z"
    }
   },
   "outputs": [],
   "source": [
    "interactions = interactions.merge(tweets.reset_index(), on='tweet_id').sort_values(by=['timestamp']).reset_index()"
   ]
  },
  {
   "cell_type": "code",
   "execution_count": null,
   "metadata": {
    "ExecuteTime": {
     "end_time": "2018-08-05T23:02:12.777901Z",
     "start_time": "2018-08-05T23:01:57.982395Z"
    }
   },
   "outputs": [],
   "source": [
    "first_inter = interactions[['index', 'username', 'timestamp', 'tweet_id']].groupby('username').first()\n",
    "repeated_inter = interactions[~(interactions['index'].isin(first_inter['index']))]"
   ]
  },
  {
   "cell_type": "code",
   "execution_count": null,
   "metadata": {
    "ExecuteTime": {
     "end_time": "2018-08-05T23:03:39.104870Z",
     "start_time": "2018-08-05T23:03:39.044122Z"
    }
   },
   "outputs": [],
   "source": [
    "first_inter = first_inter.set_index('timestamp')\n",
    "repeated_inter = repeated_inter.set_index('timestamp')"
   ]
  },
  {
   "cell_type": "code",
   "execution_count": null,
   "metadata": {
    "ExecuteTime": {
     "end_time": "2018-08-05T23:02:59.244167Z",
     "start_time": "2018-08-05T23:02:59.156319Z"
    }
   },
   "outputs": [],
   "source": [
    "len(first_inter) / len(first_inter.reset_index()['username'].unique())"
   ]
  },
  {
   "cell_type": "code",
   "execution_count": null,
   "metadata": {
    "ExecuteTime": {
     "end_time": "2018-08-05T23:03:34.362954Z",
     "start_time": "2018-08-05T23:03:34.163443Z"
    }
   },
   "outputs": [],
   "source": [
    "len(repeated_inter.reset_index()['username'].unique()) / len(repeated_inter)"
   ]
  },
  {
   "cell_type": "code",
   "execution_count": null,
   "metadata": {
    "ExecuteTime": {
     "end_time": "2018-08-05T22:57:40.001055Z",
     "start_time": "2018-08-05T22:57:39.976010Z"
    }
   },
   "outputs": [],
   "source": [
    "len(repeated_inter) + len(first_inter) == len(interactions) "
   ]
  },
  {
   "cell_type": "code",
   "execution_count": null,
   "metadata": {
    "ExecuteTime": {
     "end_time": "2018-08-05T22:59:56.960954Z",
     "start_time": "2018-08-05T22:59:55.133596Z"
    }
   },
   "outputs": [],
   "source": [
    "fidelidade_count = {'novo': count_group(first_inter, agg='count', groups=['W', 'M', 'Y']),\n",
    "                    'fiel': count_group(repeated_inter, agg='count', groups=['W', 'M', 'Y']),}"
   ]
  },
  {
   "cell_type": "code",
   "execution_count": null,
   "metadata": {
    "ExecuteTime": {
     "end_time": "2018-08-05T23:06:33.773882Z",
     "start_time": "2018-08-05T23:06:33.734341Z"
    }
   },
   "outputs": [],
   "source": [
    "data = []\n",
    "\n",
    "for interaction in fidelidade_count:\n",
    "    data.append(go.Bar(\n",
    "                    x=fidelidade_count[interaction]['Y'].index,\n",
    "                    y=fidelidade_count[interaction]['Y']['tweet_id'],\n",
    "                    name=interaction))\n",
    "\n",
    "layout = go.Layout(title='Fidelidade da interação por ano', barmode='stack')\n",
    "fig = dict(layout=layout, data=data)\n",
    "offline.iplot(fig)"
   ]
  },
  {
   "cell_type": "code",
   "execution_count": null,
   "metadata": {
    "ExecuteTime": {
     "end_time": "2018-08-05T23:05:32.354672Z",
     "start_time": "2018-08-05T23:05:32.304999Z"
    }
   },
   "outputs": [],
   "source": [
    "data = []\n",
    "\n",
    "for interaction in fidelidade_count:\n",
    "    data.append(go.Bar(\n",
    "                    x=fidelidade_count[interaction]['M'].index,\n",
    "                    y=fidelidade_count[interaction]['M']['tweet_id'],\n",
    "                    name=interaction))\n",
    "\n",
    "layout = go.Layout(title='Fidelidade da interação por mês', barmode='stack')\n",
    "fig = dict(layout=layout, data=data)\n",
    "offline.iplot(fig)"
   ]
  },
  {
   "cell_type": "code",
   "execution_count": null,
   "metadata": {
    "ExecuteTime": {
     "end_time": "2018-08-05T23:04:25.722129Z",
     "start_time": "2018-08-05T23:04:25.612973Z"
    }
   },
   "outputs": [],
   "source": [
    "data = []\n",
    "\n",
    "for interaction in fidelidade_count:\n",
    "    data.append(go.Scatter(\n",
    "                    x=fidelidade_count[interaction]['W'].index,\n",
    "                    y=fidelidade_count[interaction]['W']['tweet_id'],\n",
    "                    name=interaction))\n",
    "\n",
    "layout = go.Layout(title='Fidelidade da interação por semana')\n",
    "fig = dict(layout=layout, data=data)\n",
    "offline.iplot(fig)"
   ]
  },
  {
   "cell_type": "code",
   "execution_count": null,
   "metadata": {
    "ExecuteTime": {
     "end_time": "2018-08-05T23:21:08.340828Z",
     "start_time": "2018-08-05T23:21:08.279817Z"
    }
   },
   "outputs": [],
   "source": [
    "data = []\n",
    "\n",
    "total = fidelidade_count['novo']['M'].merge(fidelidade_count['fiel']['M'], right_index=True, left_index=True, how='outer',\n",
    "                                  suffixes=('_novo', '_fiel')).fillna(0)\n",
    "\n",
    "for interaction in fidelidade_count:\n",
    "    if interaction == 'novo':\n",
    "        data.append(go.Bar(\n",
    "                    x=total.index,\n",
    "                    y=total['tweet_id_'+interaction] / total.sum(1),\n",
    "                    name=interaction))\n",
    "\n",
    "layout = go.Layout(title='Porcentagem de novos usuários interagindo por mês', \n",
    "                  yaxis=dict(range=[0,1]))\n",
    "fig = dict(layout=layout, data=data)\n",
    "offline.iplot(fig)"
   ]
  },
  {
   "cell_type": "code",
   "execution_count": null,
   "metadata": {
    "ExecuteTime": {
     "end_time": "2018-08-05T23:20:30.716534Z",
     "start_time": "2018-08-05T23:20:30.652466Z"
    }
   },
   "outputs": [],
   "source": [
    "data = []\n",
    "\n",
    "total = fidelidade_count['novo']['W'].merge(fidelidade_count['fiel']['W'], right_index=True, left_index=True, how='outer',\n",
    "                                  suffixes=('_novo', '_fiel')).fillna(0)\n",
    "\n",
    "for interaction in fidelidade_count:\n",
    "    if interaction == 'novo':\n",
    "        data.append(go.Scatter(\n",
    "                    x=total.index,\n",
    "                    y=total['tweet_id_'+interaction] / total.sum(1),\n",
    "                    name=interaction))\n",
    "\n",
    "layout = go.Layout(title='Porcentagem de novos usuários interagindo por semana', \n",
    "                  yaxis=dict(range=[0,1]))\n",
    "fig = dict(layout=layout, data=data)\n",
    "offline.iplot(fig)"
   ]
  },
  {
   "cell_type": "markdown",
   "metadata": {},
   "source": [
    "# Indentificação de Temas"
   ]
  },
  {
   "cell_type": "code",
   "execution_count": null,
   "metadata": {
    "ExecuteTime": {
     "end_time": "2018-08-06T01:29:36.128785Z",
     "start_time": "2018-08-06T01:29:36.040720Z"
    }
   },
   "outputs": [],
   "source": [
    "from gensim.test.utils import common_texts,common_corpus\n",
    "from gensim.corpora.dictionary import Dictionary\n",
    "from gensim.models import LdaModel\n",
    "import re\n",
    "from gensim.utils import tokenize\n",
    "import nltk\n",
    "import gensim\n"
   ]
  },
  {
   "cell_type": "markdown",
   "metadata": {},
   "source": [
    "## Transform data"
   ]
  },
  {
   "cell_type": "code",
   "execution_count": null,
   "metadata": {
    "ExecuteTime": {
     "end_time": "2018-08-06T01:03:09.125852Z",
     "start_time": "2018-08-06T01:03:07.621014Z"
    }
   },
   "outputs": [],
   "source": [
    "tweet_text = tweets[['tweet_id', 'text', 'quote']].merge(image_text[['tweet_id', 'image_text']], on='tweet_id', how='outer')\n",
    "tweet_text = tweet_text[['text', 'quote', 'image_text']].fillna('')\n",
    "tweet_text = tweet_text.apply(lambda x: x['text'] + x['quote'] + x['image_text'], axis=1)\n",
    "re.sub('http\\S+', '', tweet_text[0])\n",
    "tweet_text = tweet_text.apply(lambda x: re.sub(r'http\\S+', '', x, flags=re.MULTILINE))\n",
    "tweet_text = [list(tokenize(text)) for text in list(tweet_text)]"
   ]
  },
  {
   "cell_type": "code",
   "execution_count": null,
   "metadata": {
    "ExecuteTime": {
     "end_time": "2018-08-06T01:15:47.987926Z",
     "start_time": "2018-08-06T01:15:46.656226Z"
    }
   },
   "outputs": [],
   "source": [
    "stopwords = nltk.corpus.stopwords.words('portuguese')\n",
    "stopwords = stopwords + ['mbl', 'twitter', 'youtube', 'pic', 'é', 'h', \n",
    "                         'facebook', 'r', 'ep', 's', 'n', 'lo', 'faz', 'hora', 'pra', 'p','f']\n",
    "\n",
    "tweet_text = [[word.lower() for word in document if word.lower() not in stopwords]\n",
    "              for document in tweet_text]"
   ]
  },
  {
   "cell_type": "markdown",
   "metadata": {
    "ExecuteTime": {
     "end_time": "2018-08-06T00:42:41.395372Z",
     "start_time": "2018-08-06T00:42:41.391315Z"
    }
   },
   "source": [
    "## Train Model"
   ]
  },
  {
   "cell_type": "code",
   "execution_count": null,
   "metadata": {
    "ExecuteTime": {
     "end_time": "2018-08-06T01:30:36.552198Z",
     "start_time": "2018-08-06T01:30:29.463804Z"
    }
   },
   "outputs": [],
   "source": [
    "# Create a corpus from a list of texts\n",
    "common_dictionary = Dictionary(tweet_text)\n",
    "corpus = [common_dictionary.doc2bow(text) for text in tweet_text]\n",
    "tfidf = gensim.models.TfidfModel(corpus)\n",
    "corpus_tfidf = tfidf[corpus]\n",
    "# Train the model on the corpus.\n",
    "lda = gensim.models.LsiModel(corpus_tfidf, num_topics=10, id2word=common_dictionary)"
   ]
  },
  {
   "cell_type": "code",
   "execution_count": null,
   "metadata": {
    "ExecuteTime": {
     "end_time": "2018-08-06T01:30:39.799206Z",
     "start_time": "2018-08-06T01:30:39.776923Z"
    }
   },
   "outputs": [],
   "source": [
    "lda.show_topics()"
   ]
  },
  {
   "cell_type": "code",
   "execution_count": null,
   "metadata": {
    "ExecuteTime": {
     "end_time": "2018-08-06T01:24:10.369941Z",
     "start_time": "2018-08-06T01:24:10.168462Z"
    }
   },
   "outputs": [],
   "source": [
    "from collections import OrderedDict\n",
    "import seaborn as sns\n",
    "data = {i: OrderedDict(lda.show_topic(i,10)) for i in range(10)}"
   ]
  },
  {
   "cell_type": "code",
   "execution_count": null,
   "metadata": {
    "ExecuteTime": {
     "end_time": "2018-08-06T01:24:13.526242Z",
     "start_time": "2018-08-06T01:24:13.504114Z"
    }
   },
   "outputs": [],
   "source": [
    "df = pd.DataFrame(data)\n",
    "df = df.fillna(0).T"
   ]
  },
  {
   "cell_type": "code",
   "execution_count": null,
   "metadata": {
    "ExecuteTime": {
     "end_time": "2018-08-06T01:24:17.394653Z",
     "start_time": "2018-08-06T01:24:15.319021Z"
    }
   },
   "outputs": [],
   "source": [
    "sns.clustermap(df.corr(), center=0, cmap=\"vlag\", metric='cosine',\n",
    "               linewidths=.75, figsize=(13, 13))"
   ]
  },
  {
   "cell_type": "markdown",
   "metadata": {},
   "source": [
    "# Tweets por Tema\n",
    "\n"
   ]
  },
  {
   "cell_type": "markdown",
   "metadata": {},
   "source": [
    "## Importando keywords dos temas"
   ]
  },
  {
   "cell_type": "code",
   "execution_count": null,
   "metadata": {},
   "outputs": [],
   "source": [
    "import yaml"
   ]
  },
  {
   "cell_type": "code",
   "execution_count": null,
   "metadata": {},
   "outputs": [],
   "source": [
    "keywords = yaml.load(open('keywords.yaml', 'r'))"
   ]
  },
  {
   "cell_type": "code",
   "execution_count": null,
   "metadata": {},
   "outputs": [],
   "source": [
    "keywords.keys()"
   ]
  },
  {
   "cell_type": "code",
   "execution_count": null,
   "metadata": {},
   "outputs": [],
   "source": []
  },
  {
   "cell_type": "code",
   "execution_count": null,
   "metadata": {
    "ExecuteTime": {
     "end_time": "2018-08-05T22:29:23.024558Z",
     "start_time": "2018-08-05T22:29:09.982Z"
    }
   },
   "outputs": [],
   "source": [
    "len(tweets['text'].dropna()) / len(tweets['text'])"
   ]
  },
  {
   "cell_type": "code",
   "execution_count": null,
   "metadata": {
    "ExecuteTime": {
     "end_time": "2018-08-05T22:29:23.034176Z",
     "start_time": "2018-08-05T22:29:10.013Z"
    }
   },
   "outputs": [],
   "source": [
    "tweets = tweets.dropna(subset=['text'])"
   ]
  },
  {
   "cell_type": "code",
   "execution_count": null,
   "metadata": {
    "ExecuteTime": {
     "end_time": "2018-08-05T22:29:23.037545Z",
     "start_time": "2018-08-05T22:29:10.026Z"
    }
   },
   "outputs": [],
   "source": [
    "tweets_filtered = tweets[tweets['text'].str.contains('|'.join(keywords), case=False)]"
   ]
  },
  {
   "cell_type": "code",
   "execution_count": null,
   "metadata": {
    "ExecuteTime": {
     "end_time": "2018-08-05T22:29:23.039536Z",
     "start_time": "2018-08-05T22:29:10.043Z"
    }
   },
   "outputs": [],
   "source": [
    "def count_group(df, groups=['D', 'W', 'M'], agg='count', select=['tweet_id']):\n",
    "    \n",
    "    count = {}\n",
    "    for freq in groups:\n",
    "        count[freq] = df.groupby(pd.Grouper(freq=freq)).agg(agg)[select]\n",
    "        \n",
    "    return count\n",
    "\n",
    "count = {'total': count_group(tweets),\n",
    "         'filtered': count_group(tweets_filtered)}"
   ]
  },
  {
   "cell_type": "code",
   "execution_count": null,
   "metadata": {
    "ExecuteTime": {
     "end_time": "2018-08-05T22:29:23.046347Z",
     "start_time": "2018-08-05T22:29:10.184Z"
    },
    "scrolled": false
   },
   "outputs": [],
   "source": [
    "def plot(count):\n",
    "\n",
    "    for grouper in count['total']:\n",
    "        \n",
    "        data = []\n",
    "\n",
    "        for col in count['total'][grouper].columns:\n",
    "            data.append(go.Bar(x=count['total'][grouper].index,\n",
    "                       y=count['total'][grouper][col] - count['filtered'][grouper][col],\n",
    "                       name='total'))\n",
    "\n",
    "            data.append(go.Bar(x=count['filtered'][grouper].index,\n",
    "                       y=count['filtered'][grouper][col],\n",
    "                       name='filtered'))\n",
    "\n",
    "        layout = go.Layout(title='Number of tweets per month',\n",
    "                           barmode='stack')\n",
    "\n",
    "        fig = dict(layout=layout, data=data)\n",
    "        offline.iplot(fig)\n",
    "        \n",
    "plot(count)"
   ]
  },
  {
   "cell_type": "code",
   "execution_count": null,
   "metadata": {
    "ExecuteTime": {
     "end_time": "2018-08-05T22:29:23.049145Z",
     "start_time": "2018-08-05T22:29:10.287Z"
    }
   },
   "outputs": [],
   "source": [
    "def plot_proportional(count):\n",
    "    \n",
    "    for grouper in count['total']:\n",
    "        \n",
    "        data = []\n",
    "        \n",
    "        rest = count['total'][grouper] - count['filtered'][grouper]\n",
    "        for col in count['total'][grouper].columns:\n",
    "            data.append(go.Bar(x=rest.index,\n",
    "                       y= ((rest[col]) / count['total'][grouper][col]),\n",
    "                       name='total'))\n",
    "\n",
    "            data.append(go.Bar(x=count['filtered'][grouper].index,\n",
    "                       y=(count['filtered'][grouper][col] / count['total'][grouper][col]),\n",
    "                       name='filtered'))\n",
    "\n",
    "        layout = go.Layout(title='Number of tweets per month',\n",
    "                           barmode='stack')\n",
    "        fig = dict(layout=layout, data=data)\n",
    "        offline.iplot(fig)\n",
    "        \n",
    "plot_proportional(count)"
   ]
  },
  {
   "cell_type": "code",
   "execution_count": null,
   "metadata": {
    "ExecuteTime": {
     "end_time": "2018-08-05T22:29:23.052283Z",
     "start_time": "2018-08-05T22:29:10.304Z"
    }
   },
   "outputs": [],
   "source": [
    "tweets_rest = tweets[~(tweets['tweet_id']).isin(tweets_filtered['tweet_id'])]"
   ]
  },
  {
   "cell_type": "code",
   "execution_count": null,
   "metadata": {
    "ExecuteTime": {
     "end_time": "2018-08-05T22:29:23.054469Z",
     "start_time": "2018-08-05T22:29:10.319Z"
    }
   },
   "outputs": [],
   "source": [
    "len(tweets_rest) + len(tweets_filtered) == len(tweets)"
   ]
  },
  {
   "cell_type": "code",
   "execution_count": null,
   "metadata": {
    "ExecuteTime": {
     "end_time": "2018-08-05T22:29:23.056506Z",
     "start_time": "2018-08-05T22:29:10.366Z"
    }
   },
   "outputs": [],
   "source": [
    "median = {'total': count_group(pd.concat([tweets_rest, tweets_filtered]), agg='sum',  select=['retweets']),}\n",
    "\n",
    "data = []\n",
    "\n",
    "for column in median.keys():\n",
    "    data.append(go.Bar(x=median[column]['W'].index,\n",
    "                           y=median[column]['W']['retweets'],\n",
    "                          name=column))\n",
    "\n",
    "layout = go.Layout(title='Mean retweets per week moving average', barmode='stack')\n",
    "fig = dict(layout=layout, data=data)\n",
    "offline.iplot(fig)"
   ]
  },
  {
   "cell_type": "code",
   "execution_count": null,
   "metadata": {
    "ExecuteTime": {
     "end_time": "2018-08-05T22:29:23.060825Z",
     "start_time": "2018-08-05T22:29:10.431Z"
    }
   },
   "outputs": [],
   "source": [
    "median = {'total': count_group(tweets_rest, agg='sum',  select=['retweets']),\n",
    "         'filtered': count_group(tweets_filtered, agg='sum', select=['retweets'])}\n",
    "\n",
    "data = []\n",
    "\n",
    "for column in median.keys():\n",
    "    data.append(go.Bar(x=median[column]['W'].index,\n",
    "                           y=median[column]['W']['retweets'],\n",
    "                          name=column))\n",
    "\n",
    "layout = go.Layout(title='Mean retweets per week moving average', barmode='stack')\n",
    "fig = dict(layout=layout, data=data)\n",
    "offline.iplot(fig)"
   ]
  },
  {
   "cell_type": "code",
   "execution_count": null,
   "metadata": {
    "ExecuteTime": {
     "end_time": "2018-08-05T22:29:23.063477Z",
     "start_time": "2018-08-05T22:29:10.465Z"
    },
    "scrolled": false
   },
   "outputs": [],
   "source": [
    "median = {'total': count_group(tweets_rest, agg='sum',  select=['retweets']),\n",
    "         'filtered': count_group(tweets_filtered, agg='sum', select=['retweets']),}\n",
    "\n",
    "total = median['total']['W'].merge(median['filtered']['W'], right_index=True, left_index=True, how='outer',\n",
    "                                  suffixes=('_rest', '_ideologia')).fillna(0)\n",
    "\n",
    "data = []\n",
    "\n",
    "for column in total.keys():\n",
    "        data.append(go.Bar(x=total.index,\n",
    "                           y=total[column] / total.sum(1),\n",
    "                          name=column))\n",
    "\n",
    "layout = go.Layout(title='Percentage of retweets per week', barmode='stack')\n",
    "fig = dict(layout=layout, data=data)\n",
    "offline.iplot(fig)"
   ]
  },
  {
   "cell_type": "code",
   "execution_count": null,
   "metadata": {
    "ExecuteTime": {
     "end_time": "2018-08-05T22:29:23.066123Z",
     "start_time": "2018-08-05T22:29:10.486Z"
    }
   },
   "outputs": [],
   "source": [
    "median = {'total': count_group(tweets_rest, agg='sum',  select=['retweets']),\n",
    "         'filtered': count_group(tweets_filtered, agg='sum', select=['retweets']),}\n",
    "\n",
    "total = median['total']['M'].merge(median['filtered']['M'], right_index=True, left_index=True, how='outer',\n",
    "                                  suffixes=('_rest', '_ideologia')).fillna(0)\n",
    "\n",
    "data = []\n",
    "\n",
    "for column in total.keys():\n",
    "        data.append(go.Bar(x=total.index,\n",
    "                           y=total[column] / total.sum(1) * 100,\n",
    "                          name=column))\n",
    "\n",
    "layout = go.Layout(title='Percentage of retweets per month', barmode='stack')\n",
    "fig = dict(layout=layout, data=data)\n",
    "offline.iplot(fig)"
   ]
  },
  {
   "cell_type": "code",
   "execution_count": null,
   "metadata": {
    "ExecuteTime": {
     "end_time": "2018-08-05T22:29:23.069615Z",
     "start_time": "2018-08-05T22:29:10.517Z"
    }
   },
   "outputs": [],
   "source": [
    "median = {'total': count_group(tweets_rest, agg='sum',  select=['retweets','favorites', 'replies']),\n",
    "         'filtered': count_group(tweets_filtered, agg='sum', select=['retweets', 'favorites', 'replies']),}\n",
    "\n",
    "total = median['total']['M'].merge(median['filtered']['M'], right_index=True, left_index=True, how='outer',\n",
    "                                  suffixes=('_rest', '_ideologia')).fillna(0)\n",
    "\n",
    "data = []\n",
    "\n",
    "for column in total.keys():\n",
    "    if'ideologia' in column:\n",
    "        data.append(go.Scatter(x=total.index,\n",
    "                           y=total[column] / total.sum(1) * 100,\n",
    "                          name=column))\n",
    "\n",
    "layout = go.Layout(title='Percentage of retweets per month', barmode='stack')\n",
    "fig = dict(layout=layout, data=data)\n",
    "offline.iplot(fig)"
   ]
  },
  {
   "cell_type": "code",
   "execution_count": null,
   "metadata": {
    "ExecuteTime": {
     "end_time": "2018-08-05T22:29:23.072237Z",
     "start_time": "2018-08-05T22:29:10.536Z"
    }
   },
   "outputs": [],
   "source": [
    "median = {'total': count_group(tweets_rest, agg='median',  select=['replies']),\n",
    "         'filtered': count_group(tweets_filtered, agg='median', select=['replies'])}\n",
    "\n",
    "data = []\n",
    "\n",
    "for column in median.keys():\n",
    "    data.append(go.Scatter(x=median[column]['W'].index,\n",
    "                           y=median[column]['W']['replies'].rolling(30, closed='right', min_periods=5).mean(),\n",
    "                          name=column))\n",
    "\n",
    "layout = go.Layout(title='Mean replies per week moving average')\n",
    "fig = dict(layout=layout, data=data)\n",
    "offline.iplot(fig)"
   ]
  },
  {
   "cell_type": "markdown",
   "metadata": {},
   "source": [
    "### Impact Aggregated\n",
    "\n",
    "`Impact / #tweets`"
   ]
  },
  {
   "cell_type": "code",
   "execution_count": null,
   "metadata": {
    "ExecuteTime": {
     "end_time": "2018-08-05T22:29:23.077259Z",
     "start_time": "2018-08-05T22:29:12.072Z"
    }
   },
   "outputs": [],
   "source": [
    "impacts = ['retweets', 'favorites', 'replies']"
   ]
  },
  {
   "cell_type": "code",
   "execution_count": null,
   "metadata": {
    "ExecuteTime": {
     "end_time": "2018-08-05T22:29:23.080522Z",
     "start_time": "2018-08-05T22:29:12.115Z"
    }
   },
   "outputs": [],
   "source": [
    "tweets_filtered.describe()"
   ]
  },
  {
   "cell_type": "code",
   "execution_count": null,
   "metadata": {
    "ExecuteTime": {
     "end_time": "2018-08-05T22:29:23.083890Z",
     "start_time": "2018-08-05T22:29:12.151Z"
    }
   },
   "outputs": [],
   "source": [
    "tweets_rest.describe()"
   ]
  },
  {
   "cell_type": "code",
   "execution_count": null,
   "metadata": {},
   "outputs": [],
   "source": []
  },
  {
   "cell_type": "code",
   "execution_count": null,
   "metadata": {},
   "outputs": [],
   "source": []
  },
  {
   "cell_type": "code",
   "execution_count": null,
   "metadata": {
    "ExecuteTime": {
     "end_time": "2018-08-05T22:29:23.086140Z",
     "start_time": "2018-08-05T22:29:12.225Z"
    }
   },
   "outputs": [],
   "source": [
    "data = []\n",
    "\n",
    "for column in impact_week.columns:\n",
    "    data.append(go.Scatter(x=impact_week.index,\n",
    "                       y=impact_week[column].rolling(30, closed='right', min_periods=5).mean(),\n",
    "                       name=column))\n",
    "\n",
    "layout = go.Layout(title='Mean impact per week moving average')\n",
    "fig = dict(layout=layout, data=data)\n",
    "offline.iplot(fig)"
   ]
  },
  {
   "cell_type": "code",
   "execution_count": null,
   "metadata": {},
   "outputs": [],
   "source": []
  }
 ],
 "metadata": {
  "kernelspec": {
   "display_name": "Python 3",
   "language": "python",
   "name": "python3"
  },
  "language_info": {
   "codemirror_mode": {
    "name": "ipython",
    "version": 3
   },
   "file_extension": ".py",
   "mimetype": "text/x-python",
   "name": "python",
   "nbconvert_exporter": "python",
   "pygments_lexer": "ipython3",
   "version": "3.7.0"
  },
  "toc": {
   "base_numbering": 1,
   "nav_menu": {},
   "number_sections": false,
   "sideBar": true,
   "skip_h1_title": false,
   "title_cell": "Table of Contents",
   "title_sidebar": "Contents",
   "toc_cell": true,
   "toc_position": {
    "height": "661px",
    "left": "0px",
    "right": "1288px",
    "top": "107px",
    "width": "215px"
   },
   "toc_section_display": "block",
   "toc_window_display": true
  },
  "varInspector": {
   "cols": {
    "lenName": 16,
    "lenType": 16,
    "lenVar": 40
   },
   "kernels_config": {
    "python": {
     "delete_cmd_postfix": "",
     "delete_cmd_prefix": "del ",
     "library": "var_list.py",
     "varRefreshCmd": "print(var_dic_list())"
    },
    "r": {
     "delete_cmd_postfix": ") ",
     "delete_cmd_prefix": "rm(",
     "library": "var_list.r",
     "varRefreshCmd": "cat(var_dic_list()) "
    }
   },
   "types_to_exclude": [
    "module",
    "function",
    "builtin_function_or_method",
    "instance",
    "_Feature"
   ],
   "window_display": false
  }
 },
 "nbformat": 4,
 "nbformat_minor": 2
}
