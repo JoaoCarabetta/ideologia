{
 "cells": [
  {
   "cell_type": "code",
   "execution_count": 183,
   "metadata": {
    "ExecuteTime": {
     "end_time": "2018-08-05T07:34:37.531697Z",
     "start_time": "2018-08-05T07:34:37.499410Z"
    }
   },
   "outputs": [],
   "source": [
    "from bs4 import BeautifulSoup\n",
    "import sqlite3\n",
    "import imp\n",
    "import requests\n",
    "import pandas as pd\n",
    "import tqdm\n",
    "tw = imp.load_source('tw', '../twitter-past-crawler/src/twitterpastcrawler/crawler.py')"
   ]
  },
  {
   "cell_type": "markdown",
   "metadata": {
    "ExecuteTime": {
     "end_time": "2018-08-05T05:47:03.208814Z",
     "start_time": "2018-08-05T05:47:03.136205Z"
    }
   },
   "source": [
    "## GET RETWEETS AND FAVORITES\n",
    "https://twitter.com/i/activity/retweeted_popup?id=1025962880280211456\n",
    "\n",
    "https://twitter.com/i/activity/favorited_popup?id=1025962880280211456"
   ]
  },
  {
   "cell_type": "code",
   "execution_count": 84,
   "metadata": {
    "ExecuteTime": {
     "end_time": "2018-08-05T06:17:17.289298Z",
     "start_time": "2018-08-05T06:17:16.493838Z"
    }
   },
   "outputs": [],
   "source": [
    "headers = {'User-Agent': 'Mozilla/5.0 (Macintosh; U; Intel Mac OS X 10.5; en-US; rv:1.9.0.1) Gecko/2008070206'}\n",
    "url = 'https://twitter.com/i/search/timeline?l=&q=from:mblivre%20since:2018-08-02%20until:2018-08-03&vertical=default&max_position=hoge&src=typd&include_entities=1&include_available_features=1'\n",
    "\n",
    "html = requests.get(url=url, headers=headers).json()[\"items_html\"]\n",
    "\n",
    "soup = BeautifulSoup(html, \"lxml\")\n",
    "all_tweets = soup.find_all(\"li\", attrs={\"class\": \"stream-item\"})"
   ]
  },
  {
   "cell_type": "code",
   "execution_count": 85,
   "metadata": {
    "ExecuteTime": {
     "end_time": "2018-08-05T06:17:18.177308Z",
     "start_time": "2018-08-05T06:17:17.847399Z"
    },
    "collapsed": true
   },
   "outputs": [],
   "source": []
  },
  {
   "cell_type": "code",
   "execution_count": 86,
   "metadata": {
    "ExecuteTime": {
     "end_time": "2018-08-05T06:17:18.873953Z",
     "start_time": "2018-08-05T06:17:18.848547Z"
    },
    "scrolled": true
   },
   "outputs": [
    {
     "data": {
      "text/plain": [
       "20"
      ]
     },
     "execution_count": 86,
     "metadata": {},
     "output_type": "execute_result"
    }
   ],
   "source": [
    "len(all_tweets)"
   ]
  },
  {
   "cell_type": "code",
   "execution_count": 94,
   "metadata": {
    "ExecuteTime": {
     "end_time": "2018-08-05T06:18:37.578296Z",
     "start_time": "2018-08-05T06:18:37.465560Z"
    }
   },
   "outputs": [
    {
     "name": "stdout",
     "output_type": "stream",
     "text": [
      "0\n",
      "2\n",
      "4\n",
      "16\n"
     ]
    }
   ],
   "source": [
    "for t in all_tweets:\n",
    "    if 'is-square' in str(t):\n",
    "        print(all_tweets.index(t))"
   ]
  },
  {
   "cell_type": "code",
   "execution_count": 92,
   "metadata": {
    "ExecuteTime": {
     "end_time": "2018-08-05T06:18:13.396730Z",
     "start_time": "2018-08-05T06:18:13.387745Z"
    }
   },
   "outputs": [
    {
     "data": {
      "text/plain": [
       "bs4.element.Tag"
      ]
     },
     "execution_count": 92,
     "metadata": {},
     "output_type": "execute_result"
    }
   ],
   "source": [
    "type(t)"
   ]
  },
  {
   "cell_type": "code",
   "execution_count": 95,
   "metadata": {
    "ExecuteTime": {
     "end_time": "2018-08-05T06:18:42.716764Z",
     "start_time": "2018-08-05T06:18:42.710471Z"
    }
   },
   "outputs": [],
   "source": [
    "element = all_tweets[0]"
   ]
  },
  {
   "cell_type": "code",
   "execution_count": 96,
   "metadata": {
    "ExecuteTime": {
     "end_time": "2018-08-05T06:18:46.193730Z",
     "start_time": "2018-08-05T06:18:46.179533Z"
    }
   },
   "outputs": [],
   "source": [
    "tweet_container = list(element.children)[1]\n",
    "contents = None\n",
    "for c in tweet_container.findChildren():\n",
    "    if tw.has_class(c, \"content\"):\n",
    "        contents = c\n",
    "        break"
   ]
  },
  {
   "cell_type": "markdown",
   "metadata": {
    "ExecuteTime": {
     "end_time": "2018-08-05T06:11:36.578927Z",
     "start_time": "2018-08-05T06:11:36.562532Z"
    }
   },
   "source": [
    "### Embbed Media"
   ]
  },
  {
   "cell_type": "code",
   "execution_count": 113,
   "metadata": {
    "ExecuteTime": {
     "end_time": "2018-08-05T06:22:15.232557Z",
     "start_time": "2018-08-05T06:22:15.220990Z"
    }
   },
   "outputs": [
    {
     "name": "stdout",
     "output_type": "stream",
     "text": [
      "https://pbs.twimg.com/media/DjohoSnX0AAjU5g.jpg\n"
     ]
    }
   ],
   "source": [
    "for c in contents.findChildren():\n",
    "    if tw.has_class(c, \"AdaptiveMedia is-video\"):\n",
    "        embbed_type='video'\n",
    "    if tw.has_class(c, \"AdaptiveMedia-photoContainer\"):\n",
    "        embbed_type='image'\n",
    "        embbed_url = c.attrs['data-image-url']"
   ]
  },
  {
   "cell_type": "markdown",
   "metadata": {
    "ExecuteTime": {
     "end_time": "2018-08-05T05:56:56.355817Z",
     "start_time": "2018-08-05T05:56:56.351361Z"
    }
   },
   "source": [
    "### Quote"
   ]
  },
  {
   "cell_type": "code",
   "execution_count": 50,
   "metadata": {
    "ExecuteTime": {
     "end_time": "2018-08-05T06:02:01.912057Z",
     "start_time": "2018-08-05T06:02:01.895625Z"
    }
   },
   "outputs": [
    {
     "data": {
      "text/plain": [
       "'Pessoal, o filho de um político ameaçou de morte um comediante e uma mulher. Ele fez um boletim de ocorrência contra o \"jornal teleguiado\" por causa deste post, que denuncia isso. Por favor, não fiquem compartilhando o post, ok?\\n\\nhttp://teleguiado.com/humor/2018/08/filho-de-ex-vereador-de-conselheiro-lafaiete-ameaca-de-morte-leo-lins-e-namorada.html\\xa0…'"
      ]
     },
     "execution_count": 50,
     "metadata": {},
     "output_type": "execute_result"
    }
   ],
   "source": [
    "for c in contents.findChildren():\n",
    "    if tw.has_class(c, \"QuoteTweet-text\"):\n",
    "        a = c.text"
   ]
  },
  {
   "cell_type": "markdown",
   "metadata": {
    "ExecuteTime": {
     "end_time": "2018-08-05T06:04:51.851716Z",
     "start_time": "2018-08-05T06:04:51.846365Z"
    }
   },
   "source": [
    "### Hashtag"
   ]
  },
  {
   "cell_type": "code",
   "execution_count": 59,
   "metadata": {
    "ExecuteTime": {
     "end_time": "2018-08-05T06:05:55.607315Z",
     "start_time": "2018-08-05T06:05:55.571266Z"
    }
   },
   "outputs": [
    {
     "data": {
      "text/plain": [
       "['#fernandinho',\n",
       " '#beiramar',\n",
       " '#marcola',\n",
       " '#pcc',\n",
       " '#zona',\n",
       " '#guerra',\n",
       " '#crimes',\n",
       " '#quadrilhas',\n",
       " '#criminosos',\n",
       " '#violência',\n",
       " '#corrupto',\n",
       " '#corrupção',\n",
       " '#lavajato',\n",
       " '#moro',\n",
       " '#lula',\n",
       " '#pt']"
      ]
     },
     "execution_count": 59,
     "metadata": {},
     "output_type": "execute_result"
    }
   ],
   "source": [
    "hashtags = []\n",
    "for c in contents.findChildren():\n",
    "    if tw.has_class(c, \"twitter-hashtag\"):\n",
    "        hashtags.append(c.text)\n",
    "hashtags"
   ]
  },
  {
   "cell_type": "markdown",
   "metadata": {
    "ExecuteTime": {
     "end_time": "2018-08-05T07:03:11.878626Z",
     "start_time": "2018-08-05T07:03:11.811346Z"
    }
   },
   "source": [
    "## Retweets"
   ]
  },
  {
   "cell_type": "code",
   "execution_count": 217,
   "metadata": {
    "ExecuteTime": {
     "end_time": "2018-08-05T17:08:35.653300Z",
     "start_time": "2018-08-05T17:08:35.359312Z"
    }
   },
   "outputs": [],
   "source": [
    "def get_interaction_username(tweet_id, type_int, db, cursor):\n",
    "    \n",
    "    headers = {'User-Agent': 'Mozilla/5.0 (Macintosh; U; Intel Mac OS X 10.5; en-US; rv:1.9.0.1) Gecko/2008070206'}\n",
    "    if type_int == 'retweet':\n",
    "        url = 'https://twitter.com/i/activity/retweeted_popup?id={}'.format(tweet_id)\n",
    "    elif type_int == 'favorited':\n",
    "        url = 'https://twitter.com/i/activity/favorited_popup?id={}'.format(tweet_id)\n",
    "\n",
    "    # 'htmlTitle', 'htmlContent', 'htmlUsers'\n",
    "    try:\n",
    "        html = requests.get(url=url, headers=headers).json()\n",
    "    except:\n",
    "        return\n",
    "\n",
    "    soup = BeautifulSoup(html['htmlUsers'], \"lxml\")\n",
    "\n",
    "    all_users = soup.find_all(\"span\", attrs={\"class\": \"username\"})\n",
    "\n",
    "    users = []\n",
    "    for a in all_users:\n",
    "        if a.text not in users:\n",
    "            users.append(a.text)\n",
    "            add_data_interaction(tweet_id, type_int, a.text, db, cursor)\n",
    "\n",
    "\n",
    "def init_table_interaction(db, cursor, force_reset=False):\n",
    "    \n",
    "    if force_reset:\n",
    "        cursor.execute('DROP TABLE IF EXISTS interaction;')\n",
    "\n",
    "    query = \"\"\"CREATE TABLE interaction(\n",
    "                            tweet_id TEXT,\n",
    "                            interaction_type TEXT,\n",
    "                            username TEXT\n",
    "                            )\"\"\"\n",
    "    try:\n",
    "        cursor.execute(query)\n",
    "        db.commit()\n",
    "        print('success')\n",
    "    except:\n",
    "        pass\n",
    "\n",
    "def add_data_interaction(tweet_id, int_type, username, db, cursor):\n",
    "    \n",
    "    cursor.execute(\"\"\"INSERT INTO interaction(\n",
    "                tweet_id,\n",
    "                interaction_type,\n",
    "                username) \n",
    "                VALUES(?,?,?)\"\"\", \n",
    "                (str(tweet_id),\n",
    "                str(int_type),\n",
    "                str(username)))\n",
    "    \n",
    "    db.commit()\n",
    "    \n",
    "def main():\n",
    "    \n",
    "    db = sqlite3.connect('../scripts/tweets')\n",
    "    cursor = db.cursor()\n",
    "    \n",
    "    init_table_interaction(db, cursor)\n",
    "    \n",
    "    tweets = pd.read_sql_query('SELECT * FROM tweets_mbl', db)\n",
    "    \n",
    "    inte = pd.read_sql_query('SELECT * FROM interaction', db)\n",
    "    tweets = list(tweets[~(tweets['tweet_id'].isin(inte.drop_duplicates(subset=['tweet_id'])['tweet_id']))]['tweet_id'])\n",
    "    \n",
    "    print(len(tweets))\n",
    "    \n",
    "    for tweet_id in tqdm.tqdm(tweets):\n",
    "        \n",
    "        get_interaction_username(tweet_id, 'retweet', db, cursor)\n",
    "        \n",
    "        get_interaction_username(tweet_id, 'favorited', db, cursor)\n",
    "\n",
    "        #cursor.execute('SELECT COUNT(*) FROM interaction')\n",
    "        #print(cursor.fetchone())"
   ]
  },
  {
   "cell_type": "code",
   "execution_count": 218,
   "metadata": {
    "ExecuteTime": {
     "end_time": "2018-08-05T19:35:52.556465Z",
     "start_time": "2018-08-05T17:08:36.153286Z"
    },
    "scrolled": true
   },
   "outputs": [
    {
     "name": "stderr",
     "output_type": "stream",
     "text": [
      "\r",
      "  0%|          | 0/5694 [00:00<?, ?it/s]"
     ]
    },
    {
     "name": "stdout",
     "output_type": "stream",
     "text": [
      "5694\n"
     ]
    },
    {
     "name": "stderr",
     "output_type": "stream",
     "text": [
      "100%|██████████| 5694/5694 [2:27:15<00:00,  1.55s/it]  \n"
     ]
    }
   ],
   "source": [
    "main()"
   ]
  },
  {
   "cell_type": "code",
   "execution_count": 221,
   "metadata": {
    "ExecuteTime": {
     "end_time": "2018-08-05T19:38:07.635764Z",
     "start_time": "2018-08-05T19:38:06.235930Z"
    }
   },
   "outputs": [],
   "source": [
    "tweets = pd.read_sql_query('SELECT * FROM interaction', db)"
   ]
  },
  {
   "cell_type": "code",
   "execution_count": 223,
   "metadata": {
    "ExecuteTime": {
     "end_time": "2018-08-05T19:38:45.583832Z",
     "start_time": "2018-08-05T19:38:45.280867Z"
    }
   },
   "outputs": [
    {
     "data": {
      "text/plain": [
       "116"
      ]
     },
     "execution_count": 223,
     "metadata": {},
     "output_type": "execute_result"
    }
   ],
   "source": [
    "len(pd.read_sql_query('SELECT * FROM tweets_mbl', db)) - len(tweets.drop_duplicates(subset=['tweet_id']))"
   ]
  },
  {
   "cell_type": "code",
   "execution_count": 209,
   "metadata": {
    "ExecuteTime": {
     "end_time": "2018-08-05T15:26:48.127675Z",
     "start_time": "2018-08-05T15:26:48.042821Z"
    }
   },
   "outputs": [],
   "source": []
  },
  {
   "cell_type": "code",
   "execution_count": null,
   "metadata": {
    "collapsed": true
   },
   "outputs": [],
   "source": []
  }
 ],
 "metadata": {
  "kernelspec": {
   "display_name": "Python 3",
   "language": "python",
   "name": "python3"
  },
  "toc": {
   "nav_menu": {},
   "number_sections": true,
   "sideBar": true,
   "skip_h1_title": false,
   "toc_cell": false,
   "toc_position": {},
   "toc_section_display": "block",
   "toc_window_display": false
  },
  "varInspector": {
   "cols": {
    "lenName": 16,
    "lenType": 16,
    "lenVar": 40
   },
   "kernels_config": {
    "python": {
     "delete_cmd_postfix": "",
     "delete_cmd_prefix": "del ",
     "library": "var_list.py",
     "varRefreshCmd": "print(var_dic_list())"
    },
    "r": {
     "delete_cmd_postfix": ") ",
     "delete_cmd_prefix": "rm(",
     "library": "var_list.r",
     "varRefreshCmd": "cat(var_dic_list()) "
    }
   },
   "types_to_exclude": [
    "module",
    "function",
    "builtin_function_or_method",
    "instance",
    "_Feature"
   ],
   "window_display": false
  }
 },
 "nbformat": 4,
 "nbformat_minor": 2
}
